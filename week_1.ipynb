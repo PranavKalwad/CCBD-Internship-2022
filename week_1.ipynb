{
 "cells": [
  {
   "cell_type": "code",
   "execution_count": 1,
   "metadata": {},
   "outputs": [],
   "source": [
    "import pandas as pd\n",
    "import numpy as np\n",
    "import geopandas as gpd\n",
    "import matplotlib.pyplot as plt\n",
    "import shapely.wkt\n",
    "import statistics\n",
    "from shapely.geometry import Polygon\n",
    "from shapely.wkt import loads,dumps \n",
    "import os\n",
    "import time"
   ]
  },
  {
   "cell_type": "code",
   "execution_count": 2,
   "metadata": {},
   "outputs": [
    {
     "data": {
      "text/html": [
       "<div>\n",
       "<style scoped>\n",
       "    .dataframe tbody tr th:only-of-type {\n",
       "        vertical-align: middle;\n",
       "    }\n",
       "\n",
       "    .dataframe tbody tr th {\n",
       "        vertical-align: top;\n",
       "    }\n",
       "\n",
       "    .dataframe thead th {\n",
       "        text-align: right;\n",
       "    }\n",
       "</style>\n",
       "<table border=\"1\" class=\"dataframe\">\n",
       "  <thead>\n",
       "    <tr style=\"text-align: right;\">\n",
       "      <th></th>\n",
       "      <th>wktcolumn</th>\n",
       "    </tr>\n",
       "  </thead>\n",
       "  <tbody>\n",
       "    <tr>\n",
       "      <th>0</th>\n",
       "      <td>POLYGON ((46037.8372 2255624.84048778,46037.83...</td>\n",
       "    </tr>\n",
       "    <tr>\n",
       "      <th>1</th>\n",
       "      <td>POLYGON ((134337.8372 2187724.84048778,134337....</td>\n",
       "    </tr>\n",
       "    <tr>\n",
       "      <th>2</th>\n",
       "      <td>POLYGON ((134537.8372 2187624.84048778,134737....</td>\n",
       "    </tr>\n",
       "    <tr>\n",
       "      <th>3</th>\n",
       "      <td>POLYGON ((165337.8372 2240124.84048778,165437....</td>\n",
       "    </tr>\n",
       "    <tr>\n",
       "      <th>4</th>\n",
       "      <td>POLYGON ((166137.8372 2239924.84048778,166237....</td>\n",
       "    </tr>\n",
       "    <tr>\n",
       "      <th>...</th>\n",
       "      <td>...</td>\n",
       "    </tr>\n",
       "    <tr>\n",
       "      <th>60678</th>\n",
       "      <td>POLYGON ((-273162.1628 2598724.84048778,-27316...</td>\n",
       "    </tr>\n",
       "    <tr>\n",
       "      <th>60679</th>\n",
       "      <td>POLYGON ((261637.8372 2579424.84048778,261737....</td>\n",
       "    </tr>\n",
       "    <tr>\n",
       "      <th>60680</th>\n",
       "      <td>POLYGON ((306637.8372 2579424.84048778,306637....</td>\n",
       "    </tr>\n",
       "    <tr>\n",
       "      <th>60681</th>\n",
       "      <td>POLYGON ((518637.8372 2565824.84048778,518637....</td>\n",
       "    </tr>\n",
       "    <tr>\n",
       "      <th>60682</th>\n",
       "      <td>POLYGON ((522837.8372 2565824.84048778,522937....</td>\n",
       "    </tr>\n",
       "  </tbody>\n",
       "</table>\n",
       "<p>60683 rows × 1 columns</p>\n",
       "</div>"
      ],
      "text/plain": [
       "                                               wktcolumn\n",
       "0      POLYGON ((46037.8372 2255624.84048778,46037.83...\n",
       "1      POLYGON ((134337.8372 2187724.84048778,134337....\n",
       "2      POLYGON ((134537.8372 2187624.84048778,134737....\n",
       "3      POLYGON ((165337.8372 2240124.84048778,165437....\n",
       "4      POLYGON ((166137.8372 2239924.84048778,166237....\n",
       "...                                                  ...\n",
       "60678  POLYGON ((-273162.1628 2598724.84048778,-27316...\n",
       "60679  POLYGON ((261637.8372 2579424.84048778,261737....\n",
       "60680  POLYGON ((306637.8372 2579424.84048778,306637....\n",
       "60681  POLYGON ((518637.8372 2565824.84048778,518637....\n",
       "60682  POLYGON ((522837.8372 2565824.84048778,522937....\n",
       "\n",
       "[60683 rows x 1 columns]"
      ]
     },
     "execution_count": 2,
     "metadata": {},
     "output_type": "execute_result"
    }
   ],
   "source": [
    "begin=time.time()\n",
    "df=pd.read_csv(\"E:\\Desktop\\PRANAV\\ccbd_internship\\Copy of 01_WKT1985.csv\",names=['wktcolumn'])\n",
    "df"
   ]
  },
  {
   "cell_type": "code",
   "execution_count": 3,
   "metadata": {
    "scrolled": true
   },
   "outputs": [
    {
     "data": {
      "text/html": [
       "<div>\n",
       "<style scoped>\n",
       "    .dataframe tbody tr th:only-of-type {\n",
       "        vertical-align: middle;\n",
       "    }\n",
       "\n",
       "    .dataframe tbody tr th {\n",
       "        vertical-align: top;\n",
       "    }\n",
       "\n",
       "    .dataframe thead th {\n",
       "        text-align: right;\n",
       "    }\n",
       "</style>\n",
       "<table border=\"1\" class=\"dataframe\">\n",
       "  <thead>\n",
       "    <tr style=\"text-align: right;\">\n",
       "      <th></th>\n",
       "      <th>geometry</th>\n",
       "    </tr>\n",
       "  </thead>\n",
       "  <tbody>\n",
       "    <tr>\n",
       "      <th>0</th>\n",
       "      <td>POLYGON ((46037.83720 2255624.84049, 46037.837...</td>\n",
       "    </tr>\n",
       "    <tr>\n",
       "      <th>1</th>\n",
       "      <td>POLYGON ((134337.83720 2187724.84049, 134337.8...</td>\n",
       "    </tr>\n",
       "    <tr>\n",
       "      <th>2</th>\n",
       "      <td>POLYGON ((134537.83720 2187624.84049, 134737.8...</td>\n",
       "    </tr>\n",
       "    <tr>\n",
       "      <th>3</th>\n",
       "      <td>POLYGON ((165337.83720 2240124.84049, 165437.8...</td>\n",
       "    </tr>\n",
       "    <tr>\n",
       "      <th>4</th>\n",
       "      <td>POLYGON ((166137.83720 2239924.84049, 166237.8...</td>\n",
       "    </tr>\n",
       "    <tr>\n",
       "      <th>...</th>\n",
       "      <td>...</td>\n",
       "    </tr>\n",
       "    <tr>\n",
       "      <th>60678</th>\n",
       "      <td>POLYGON ((-273162.16280 2598724.84049, -273162...</td>\n",
       "    </tr>\n",
       "    <tr>\n",
       "      <th>60679</th>\n",
       "      <td>POLYGON ((261637.83720 2579424.84049, 261737.8...</td>\n",
       "    </tr>\n",
       "    <tr>\n",
       "      <th>60680</th>\n",
       "      <td>POLYGON ((306637.83720 2579424.84049, 306637.8...</td>\n",
       "    </tr>\n",
       "    <tr>\n",
       "      <th>60681</th>\n",
       "      <td>POLYGON ((518637.83720 2565824.84049, 518637.8...</td>\n",
       "    </tr>\n",
       "    <tr>\n",
       "      <th>60682</th>\n",
       "      <td>POLYGON ((522837.83720 2565824.84049, 522937.8...</td>\n",
       "    </tr>\n",
       "  </tbody>\n",
       "</table>\n",
       "<p>60683 rows × 1 columns</p>\n",
       "</div>"
      ],
      "text/plain": [
       "                                                geometry\n",
       "0      POLYGON ((46037.83720 2255624.84049, 46037.837...\n",
       "1      POLYGON ((134337.83720 2187724.84049, 134337.8...\n",
       "2      POLYGON ((134537.83720 2187624.84049, 134737.8...\n",
       "3      POLYGON ((165337.83720 2240124.84049, 165437.8...\n",
       "4      POLYGON ((166137.83720 2239924.84049, 166237.8...\n",
       "...                                                  ...\n",
       "60678  POLYGON ((-273162.16280 2598724.84049, -273162...\n",
       "60679  POLYGON ((261637.83720 2579424.84049, 261737.8...\n",
       "60680  POLYGON ((306637.83720 2579424.84049, 306637.8...\n",
       "60681  POLYGON ((518637.83720 2565824.84049, 518637.8...\n",
       "60682  POLYGON ((522837.83720 2565824.84049, 522937.8...\n",
       "\n",
       "[60683 rows x 1 columns]"
      ]
     },
     "execution_count": 3,
     "metadata": {},
     "output_type": "execute_result"
    }
   ],
   "source": [
    "geometry = df['wktcolumn'].map(shapely.wkt.loads)\n",
    "df = df.drop('wktcolumn', axis=1)\n",
    "gdf = gpd.GeoDataFrame(df, crs=\"EPSG:4326\", geometry=geometry)\n",
    "gdf"
   ]
  },
  {
   "cell_type": "code",
   "execution_count": 4,
   "metadata": {},
   "outputs": [
    {
     "name": "stdout",
     "output_type": "stream",
     "text": [
      "131.041356 MB\n"
     ]
    }
   ],
   "source": [
    "#File size\n",
    "size=os.path.getsize(\"E:\\Desktop\\PRANAV\\ccbd_internship\\Copy of 01_WKT1985.csv\")\n",
    "print(size/10**6,\"MB\")"
   ]
  },
  {
   "cell_type": "code",
   "execution_count": 5,
   "metadata": {},
   "outputs": [
    {
     "name": "stderr",
     "output_type": "stream",
     "text": [
      "C:\\Users\\Pranav\\AppData\\Local\\Temp\\ipykernel_16840\\4052318909.py:3: UserWarning: Geometry is in a geographic CRS. Results from 'area' are likely incorrect. Use 'GeoSeries.to_crs()' to re-project geometries to a projected CRS before this operation.\n",
      "\n",
      "  df['area']=a.area\n",
      "C:\\Users\\Pranav\\AppData\\Local\\Temp\\ipykernel_16840\\4052318909.py:4: UserWarning: Geometry is in a geographic CRS. Results from 'area' are likely incorrect. Use 'GeoSeries.to_crs()' to re-project geometries to a projected CRS before this operation.\n",
      "\n",
      "  min_size=min(a.area)\n",
      "C:\\Users\\Pranav\\AppData\\Local\\Temp\\ipykernel_16840\\4052318909.py:5: UserWarning: Geometry is in a geographic CRS. Results from 'length' are likely incorrect. Use 'GeoSeries.to_crs()' to re-project geometries to a projected CRS before this operation.\n",
      "\n",
      "  std_dev=statistics.stdev(a.length)\n",
      "C:\\Users\\Pranav\\AppData\\Local\\Temp\\ipykernel_16840\\4052318909.py:8: UserWarning: Geometry is in a geographic CRS. Results from 'area' are likely incorrect. Use 'GeoSeries.to_crs()' to re-project geometries to a projected CRS before this operation.\n",
      "\n",
      "  max_size=max(a.area)\n",
      "C:\\Users\\Pranav\\AppData\\Local\\Temp\\ipykernel_16840\\4052318909.py:10: UserWarning: Geometry is in a geographic CRS. Results from 'area' are likely incorrect. Use 'GeoSeries.to_crs()' to re-project geometries to a projected CRS before this operation.\n",
      "\n",
      "  avg_size=statistics.mean((a.area))\n"
     ]
    },
    {
     "name": "stdout",
     "output_type": "stream",
     "text": [
      "9999.99999999418\n",
      "23474560000.0\n",
      "5666220.358255195\n",
      "196324.30614780824\n"
     ]
    }
   ],
   "source": [
    "#Calculating area\n",
    "a=gpd.GeoSeries(df['geometry'])\n",
    "df['area']=a.area\n",
    "min_size=min(a.area)\n",
    "std_dev=statistics.stdev(a.length)\n",
    "# df\n",
    "# min_size\n",
    "max_size=max(a.area)\n",
    "# max_size\n",
    "avg_size=statistics.mean((a.area))\n",
    "# avg_size\n",
    "print(min_size)\n",
    "print(max_size)\n",
    "print(avg_size)\n",
    "print(std_dev)"
   ]
  },
  {
   "cell_type": "code",
   "execution_count": 6,
   "metadata": {},
   "outputs": [
    {
     "name": "stderr",
     "output_type": "stream",
     "text": [
      "C:\\Users\\Pranav\\AppData\\Local\\Temp\\ipykernel_16840\\4135423296.py:3: UserWarning: Geometry is in a geographic CRS. Results from 'length' are likely incorrect. Use 'GeoSeries.to_crs()' to re-project geometries to a projected CRS before this operation.\n",
      "\n",
      "  df['perimeter']=p.length\n",
      "C:\\Users\\Pranav\\AppData\\Local\\Temp\\ipykernel_16840\\4135423296.py:5: UserWarning: Geometry is in a geographic CRS. Results from 'length' are likely incorrect. Use 'GeoSeries.to_crs()' to re-project geometries to a projected CRS before this operation.\n",
      "\n",
      "  avg_perimeter=statistics.mean(p.length)\n",
      "C:\\Users\\Pranav\\AppData\\Local\\Temp\\ipykernel_16840\\4135423296.py:6: UserWarning: Geometry is in a geographic CRS. Results from 'length' are likely incorrect. Use 'GeoSeries.to_crs()' to re-project geometries to a projected CRS before this operation.\n",
      "\n",
      "  std_dev=statistics.stdev(p.length)\n",
      "C:\\Users\\Pranav\\AppData\\Local\\Temp\\ipykernel_16840\\4135423296.py:8: UserWarning: Geometry is in a geographic CRS. Results from 'length' are likely incorrect. Use 'GeoSeries.to_crs()' to re-project geometries to a projected CRS before this operation.\n",
      "\n",
      "  max_perimeter=max(p.length)\n",
      "C:\\Users\\Pranav\\AppData\\Local\\Temp\\ipykernel_16840\\4135423296.py:10: UserWarning: Geometry is in a geographic CRS. Results from 'length' are likely incorrect. Use 'GeoSeries.to_crs()' to re-project geometries to a projected CRS before this operation.\n",
      "\n",
      "  min_perimeter=min(p.length)\n"
     ]
    },
    {
     "name": "stdout",
     "output_type": "stream",
     "text": [
      "399.9999999998836\n",
      "25352600.0\n",
      "11425.005355700938\n",
      "196324.30614780824\n"
     ]
    }
   ],
   "source": [
    "#Calculating perimeter\n",
    "p=gpd.GeoSeries(df['geometry'])\n",
    "df['perimeter']=p.length\n",
    "# df\n",
    "avg_perimeter=statistics.mean(p.length)\n",
    "std_dev=statistics.stdev(p.length)\n",
    "# avg_perimeter\n",
    "max_perimeter=max(p.length)\n",
    "# max_perimeter\n",
    "min_perimeter=min(p.length)\n",
    "# min_perimeter\n",
    "print(min_perimeter)\n",
    "print(max_perimeter)\n",
    "print(avg_perimeter)\n",
    "print(std_dev)"
   ]
  },
  {
   "cell_type": "code",
   "execution_count": 7,
   "metadata": {},
   "outputs": [
    {
     "name": "stdout",
     "output_type": "stream",
     "text": [
      "8.059657573699951\n"
     ]
    },
    {
     "name": "stderr",
     "output_type": "stream",
     "text": [
      "C:\\Users\\Pranav\\AppData\\Local\\Temp\\ipykernel_16840\\4229377569.py:3: UserWarning: Geometry is in a geographic CRS. Results from 'length' are likely incorrect. Use 'GeoSeries.to_crs()' to re-project geometries to a projected CRS before this operation.\n",
      "\n",
      "  no_of_objects=len(p.length)\n"
     ]
    }
   ],
   "source": [
    "#Number of Objects\n",
    "p=gpd.GeoSeries(df['geometry'])\n",
    "no_of_objects=len(p.length)\n",
    "# std_dev=statistics.stdev(p.length)\n",
    "# print(std_dev)\n",
    "end=time.time()\n",
    "total_time=end-begin\n",
    "print(total_time)"
   ]
  }
 ],
 "metadata": {
  "kernelspec": {
   "display_name": "Python 3 (ipykernel)",
   "language": "python",
   "name": "python3"
  },
  "language_info": {
   "codemirror_mode": {
    "name": "ipython",
    "version": 3
   },
   "file_extension": ".py",
   "mimetype": "text/x-python",
   "name": "python",
   "nbconvert_exporter": "python",
   "pygments_lexer": "ipython3",
   "version": "3.10.4"
  }
 },
 "nbformat": 4,
 "nbformat_minor": 2
}
